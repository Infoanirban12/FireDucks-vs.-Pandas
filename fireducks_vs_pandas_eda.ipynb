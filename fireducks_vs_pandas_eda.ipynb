{
 "cells": [
  {
   "cell_type": "markdown",
   "id": "79cbfd87",
   "metadata": {},
   "source": [
    "# 🔥 FireDucks vs. Pandas: EDA Benchmark Notebook"
   ]
  },
  {
   "cell_type": "markdown",
   "id": "9c3cadfd",
   "metadata": {},
   "source": [
    "This notebook compares **Pandas** and **FireDucks** on a synthetic dataset with 1 million rows."
   ]
  },
  {
   "cell_type": "code",
   "execution_count": null,
   "id": "919f3f1c",
   "metadata": {},
   "outputs": [],
   "source": [
    "import pandas as pd\n",
    "import fireducks as fd\n",
    "import matplotlib.pyplot as plt\n",
    "import seaborn as sns\n",
    "import plotly.express as px\n",
    "import time\n",
    "\n",
    "# Enable FireDucks benchmark mode\n",
    "fd.enable_benchmark()\n"
   ]
  },
  {
   "cell_type": "markdown",
   "id": "46c391af",
   "metadata": {},
   "source": [
    "## 📥 Load the Dataset"
   ]
  },
  {
   "cell_type": "code",
   "execution_count": null,
   "id": "c3cdb49c",
   "metadata": {},
   "outputs": [],
   "source": [
    "# Load CSV with Pandas\n",
    "start_time = time.time()\n",
    "df_pd = pd.read_csv(\"large_dataset.csv\")\n",
    "print(f\"Pandas Load Time: {time.time() - start_time:.2f} seconds\")\n",
    "\n",
    "# Load CSV with FireDucks\n",
    "start_time = time.time()\n",
    "df_fd = fd.read_csv(\"large_dataset.csv\")\n",
    "print(f\"FireDucks Load Time: {time.time() - start_time:.2f} seconds\")\n"
   ]
  },
  {
   "cell_type": "markdown",
   "id": "63a64ee0",
   "metadata": {},
   "source": [
    "## 📊 Summary Statistics"
   ]
  },
  {
   "cell_type": "code",
   "execution_count": null,
   "id": "de5c2f34",
   "metadata": {},
   "outputs": [],
   "source": [
    "# Pandas\n",
    "df_pd.describe()\n"
   ]
  },
  {
   "cell_type": "code",
   "execution_count": null,
   "id": "b979232a",
   "metadata": {},
   "outputs": [],
   "source": [
    "# FireDucks\n",
    "df_fd.describe()\n"
   ]
  },
  {
   "cell_type": "markdown",
   "id": "16677c87",
   "metadata": {},
   "source": [
    "## 🔍 GroupBy Aggregation"
   ]
  },
  {
   "cell_type": "code",
   "execution_count": null,
   "id": "6ebdcbd6",
   "metadata": {},
   "outputs": [],
   "source": [
    "# Pandas\n",
    "df_pd.groupby(\"category\")[\"sales\"].mean()\n"
   ]
  },
  {
   "cell_type": "code",
   "execution_count": null,
   "id": "e8d4f26b",
   "metadata": {},
   "outputs": [],
   "source": [
    "# FireDucks\n",
    "df_fd.groupby(\"category\").mean(\"sales\")\n"
   ]
  },
  {
   "cell_type": "markdown",
   "id": "be26b70e",
   "metadata": {},
   "source": [
    "## 📈 Visualizations"
   ]
  },
  {
   "cell_type": "code",
   "execution_count": null,
   "id": "22e8beb8",
   "metadata": {},
   "outputs": [],
   "source": [
    "# Plotly Histogram using Pandas\n",
    "fig = px.histogram(df_pd, x=\"price\", title=\"Price Distribution - Pandas\")\n",
    "fig.show()\n"
   ]
  },
  {
   "cell_type": "code",
   "execution_count": null,
   "id": "085f8395",
   "metadata": {},
   "outputs": [],
   "source": [
    "# Plotly Histogram using FireDucks\n",
    "fig = px.histogram(df_fd, x=\"price\", title=\"Price Distribution - FireDucks\")\n",
    "fig.show()\n"
   ]
  }
 ],
 "metadata": {},
 "nbformat": 4,
 "nbformat_minor": 5
}